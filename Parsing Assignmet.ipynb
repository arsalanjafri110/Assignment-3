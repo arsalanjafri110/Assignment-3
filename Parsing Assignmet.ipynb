{
 "cells": [
  {
   "cell_type": "code",
   "execution_count": 57,
   "metadata": {},
   "outputs": [
    {
     "name": "stdout",
     "output_type": "stream",
     "text": [
      "Enter file name: e:/sample_text.txt\n",
      "Number of words:\n",
      "38128\n",
      "Number of lines:\n",
      "4821\n",
      "Number of spaces:\n",
      "78010\n",
      "Number of tabs:\n",
      "34\n",
      "Number of paragraphs:\n",
      "36\n",
      "Number of non space charatcer:\n",
      "137180\n"
     ]
    }
   ],
   "source": [
    "fname = input(\"Enter file name: \")\n",
    " \n",
    "num_words = 0\n",
    "num_lines = 0\n",
    "k = 0\n",
    "tabs = 0\n",
    "linecount = 0\n",
    "paragraphcount = 0\n",
    "num_chars = 0\n",
    "with open(fname, encoding ='utf8') as f:\n",
    "    for line in f:\n",
    "        for i in words:\n",
    "            for letter in i:\n",
    "                if(letter.isspace):\n",
    "                    k=k+1\n",
    "        words = line.split()\n",
    "        num_words += len(words)\n",
    "        num_lines += 1 \n",
    "        tabs += line.count('\\t')\n",
    "        if '\\n' in i:\n",
    "            linecount += 1\n",
    "        if len(i) < 2: paragraphcount *= 0\n",
    "        elif len(i) > 2: paragraphcount = paragraphcount + 1\n",
    "        num_chars += len(line)\n",
    "        num_charsx = num_chars - line.count(' ')\n",
    "\n",
    "print(\"Number of words:\")\n",
    "print(num_words)\n",
    "print(\"Number of lines:\")\n",
    "print(num_lines)\n",
    "print(\"Number of spaces:\")\n",
    "print(k)\n",
    "print(\"Number of tabs:\")\n",
    "print(tabs)\n",
    "print(\"Number of paragraphs:\")\n",
    "print(paragraphcount)\n",
    "print(\"Number of non space charatcer:\")\n",
    "print(num_charsx)"
   ]
  },
  {
   "cell_type": "code",
   "execution_count": 67,
   "metadata": {},
   "outputs": [
    {
     "name": "stdout",
     "output_type": "stream",
     "text": [
      "Enter Html File \n",
      "e:/example_html_file.html\n",
      "\n",
      " Opening tags  : {'html': 1, 'head': 1, 'title': 1, 'style': 1, 'body': 1, 'h1': 1, 'p': 3, 'a': 1}\n",
      "\n",
      " Closing tags  : {'title': 1, 'style': 1, 'head': 1, 'h1': 1, 'p': 3, 'a': 1, 'body': 1, 'html': 1}\n"
     ]
    }
   ],
   "source": [
    "import os\n",
    "import sys\n",
    "from html.parser import HTMLParser\n",
    "\n",
    "dictionaryopenTags ={}\n",
    "dictionaryCloseTags ={}\n",
    "class MyHTMLParser(HTMLParser):\n",
    "    def handle_starttag(self, tag, attrs):\n",
    "        \n",
    "        if tag not in dictionaryopenTags:\n",
    "            dictionaryopenTags[tag] = 1\n",
    "        else:\n",
    "            dictionaryopenTags[tag]  +=1    \n",
    "    def display (self):  \n",
    "        print(\"\\n Opening tags  : {}\".format(dictionaryopenTags))\n",
    "        print(\"\\n Closing tags  : {}\".format(dictionaryCloseTags))\n",
    "    def handle_endtag(self, tag):\n",
    "        if tag not in dictionaryCloseTags:\n",
    "            dictionaryCloseTags[tag] = 1\n",
    "        else:\n",
    "            dictionaryCloseTags[tag]  +=1 \n",
    "        \n",
    "fileNames = input(\"Enter Html File \\n\").split(',')\n",
    "#print(fileNames)\n",
    "for fileName in fileNames:\n",
    "    if os.path.isfile(fileName) is True:\n",
    "        parser = MyHTMLParser()\n",
    "        f = open(fileName, 'r')\n",
    "        data = f.read()\n",
    "        parser.feed(data)\n",
    "        parser.display() \n",
    "        dictionaryopenTags ={}\n",
    "    else :\n",
    "        print(fileName, \"Not exists\")"
   ]
  },
  {
   "cell_type": "code",
   "execution_count": 12,
   "metadata": {},
   "outputs": [],
   "source": []
  },
  {
   "cell_type": "code",
   "execution_count": null,
   "metadata": {},
   "outputs": [],
   "source": []
  }
 ],
 "metadata": {
  "kernelspec": {
   "display_name": "Python 3",
   "language": "python",
   "name": "python3"
  },
  "language_info": {
   "codemirror_mode": {
    "name": "ipython",
    "version": 3
   },
   "file_extension": ".py",
   "mimetype": "text/x-python",
   "name": "python",
   "nbconvert_exporter": "python",
   "pygments_lexer": "ipython3",
   "version": "3.7.3"
  }
 },
 "nbformat": 4,
 "nbformat_minor": 2
}
